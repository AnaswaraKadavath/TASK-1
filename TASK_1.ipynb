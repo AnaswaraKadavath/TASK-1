{
  "nbformat": 4,
  "nbformat_minor": 0,
  "metadata": {
    "colab": {
      "provenance": [],
      "gpuType": "T4"
    },
    "kernelspec": {
      "name": "python3",
      "display_name": "Python 3"
    },
    "language_info": {
      "name": "python"
    },
    "accelerator": "GPU"
  },
  "cells": [
    {
      "cell_type": "markdown",
      "source": [
        "1.Program to print all the even numbers between 1 and 20, skipping the number 10 using a continue statement"
      ],
      "metadata": {
        "id": "J3exQ5kf64L2"
      }
    },
    {
      "cell_type": "code",
      "source": [
        "for num in range(1, 21):\n",
        "    if num == 10:\n",
        "        continue\n",
        "    if num % 2 == 0:\n",
        "        print(num)"
      ],
      "metadata": {
        "colab": {
          "base_uri": "https://localhost:8080/"
        },
        "id": "mHJlGYre-0D5",
        "outputId": "c2a6a7d7-6a5a-4e9e-8643-5557af1bf5d9"
      },
      "execution_count": 2,
      "outputs": [
        {
          "output_type": "stream",
          "name": "stdout",
          "text": [
            "2\n",
            "4\n",
            "6\n",
            "8\n",
            "12\n",
            "14\n",
            "16\n",
            "18\n",
            "20\n"
          ]
        }
      ]
    },
    {
      "cell_type": "markdown",
      "source": [
        "2.Program to print sum of all positive numbers entered by user , terminating the loop when a negative number is entered using a break statement"
      ],
      "metadata": {
        "id": "f9_zoXkACMuo"
      }
    },
    {
      "cell_type": "code",
      "source": [
        "sum=0\n",
        "while True:\n",
        "    num=int(input(\"enter a number\"))\n",
        "    if num<0:\n",
        "      break\n",
        "    if num>=0:\n",
        "       sum+=num\n",
        "print(sum)\n",
        "\n",
        ""
      ],
      "metadata": {
        "colab": {
          "base_uri": "https://localhost:8080/"
        },
        "id": "Z4WQPZOjB_a0",
        "outputId": "067b9ac8-8f4f-43e2-98d5-bab1def666ba"
      },
      "execution_count": 6,
      "outputs": [
        {
          "output_type": "stream",
          "name": "stdout",
          "text": [
            "enter a number2\n",
            "enter a number5\n",
            "enter a number-6\n",
            "7\n"
          ]
        }
      ]
    },
    {
      "cell_type": "markdown",
      "source": [
        "3.Program to find the first 5 multiples of 3,but if a multiple of 3 is divisible by 4, skip it using a continue statement"
      ],
      "metadata": {
        "id": "egd59g_IFSJ6"
      }
    },
    {
      "cell_type": "code",
      "source": [
        "num=1\n",
        "count=0\n",
        "while count<4:\n",
        "    if num%3==0 and num%4!=0:\n",
        "        print(num)\n",
        "        count+=1\n",
        "    num+=1"
      ],
      "metadata": {
        "colab": {
          "base_uri": "https://localhost:8080/"
        },
        "id": "otP8N3HbG1zW",
        "outputId": "91076c1c-92fc-4252-e651-5cde24e37722"
      },
      "execution_count": 10,
      "outputs": [
        {
          "output_type": "stream",
          "name": "stdout",
          "text": [
            "3\n",
            "6\n",
            "9\n",
            "15\n"
          ]
        }
      ]
    },
    {
      "cell_type": "code",
      "source": [],
      "metadata": {
        "id": "zcBK8PB7G7Kx"
      },
      "execution_count": null,
      "outputs": []
    }
  ]
}